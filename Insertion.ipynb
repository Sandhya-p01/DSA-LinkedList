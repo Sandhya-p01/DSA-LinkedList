{
 "cells": [
  {
   "cell_type": "code",
   "execution_count": 3,
   "id": "efd740aa-ec23-4c0c-bdc2-dc798ac794d7",
   "metadata": {},
   "outputs": [
    {
     "name": "stdout",
     "output_type": "stream",
     "text": [
      "1 2 3 \n",
      "0 1 2 3 \n",
      "0 1 4 2 3 \n"
     ]
    }
   ],
   "source": [
    "class Node:\n",
    "    def __init__(self, data=None):\n",
    "        self.data = data\n",
    "        self.next = None\n",
    "\n",
    "class LinkedList:\n",
    "    def __init__(self):\n",
    "        self.head = None\n",
    "\n",
    "    def insert_at_head(self, data):\n",
    "        new_node = Node(data)\n",
    "        new_node.next = self.head\n",
    "        self.head = new_node\n",
    "\n",
    "    def insert_at_tail(self, data):\n",
    "        if not self.head:\n",
    "            self.head = Node(data)\n",
    "            return\n",
    "        current = self.head\n",
    "        while current.next:\n",
    "            current = current.next\n",
    "        current.next = Node(data)\n",
    "\n",
    "    def insert_at_position(self, data, position):\n",
    "        if position == 0:\n",
    "            self.insert_at_head(data)\n",
    "            return\n",
    "        current = self.head\n",
    "        current_position = 0\n",
    "        while current and current_position < position - 1:\n",
    "            current = current.next\n",
    "            current_position += 1\n",
    "        if not current:\n",
    "            print(\"Position out of range\")\n",
    "            return\n",
    "        new_node = Node(data)\n",
    "        new_node.next = current.next\n",
    "        current.next = new_node\n",
    "\n",
    "    def print_list(self):\n",
    "        current = self.head\n",
    "        while current:\n",
    "            print(current.data, end=\" \")\n",
    "            current = current.next\n",
    "        print()\n",
    "linked_list = LinkedList()\n",
    "linked_list.insert_at_tail(1)\n",
    "linked_list.insert_at_tail(2)\n",
    "linked_list.insert_at_tail(3)\n",
    "linked_list.print_list() \n",
    "linked_list.insert_at_head(0)\n",
    "linked_list.print_list() \n",
    "linked_list.insert_at_position(4, 2)\n",
    "linked_list.print_list()  "
   ]
  },
  {
   "cell_type": "code",
   "execution_count": null,
   "id": "41cbffd9-e47a-440a-aadf-4fa41a5054b3",
   "metadata": {},
   "outputs": [],
   "source": []
  }
 ],
 "metadata": {
  "kernelspec": {
   "display_name": "Python 3 (ipykernel)",
   "language": "python",
   "name": "python3"
  },
  "language_info": {
   "codemirror_mode": {
    "name": "ipython",
    "version": 3
   },
   "file_extension": ".py",
   "mimetype": "text/x-python",
   "name": "python",
   "nbconvert_exporter": "python",
   "pygments_lexer": "ipython3",
   "version": "3.12.7"
  }
 },
 "nbformat": 4,
 "nbformat_minor": 5
}
