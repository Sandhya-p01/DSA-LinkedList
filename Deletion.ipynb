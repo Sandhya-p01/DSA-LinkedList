{
 "cells": [
  {
   "cell_type": "code",
   "execution_count": 3,
   "id": "40c6889a-420d-4165-a496-e75ca7b50521",
   "metadata": {},
   "outputs": [
    {
     "name": "stdout",
     "output_type": "stream",
     "text": [
      "1 2 3 4 \n",
      "2 3 4 \n",
      "2 4 \n",
      "4 \n"
     ]
    }
   ],
   "source": [
    "class Node:\n",
    "    def __init__(self, data=None):\n",
    "        self.data = data\n",
    "        self.next = None\n",
    "class LinkedList:\n",
    "    def __init__(self):\n",
    "        self.head = None\n",
    "    def append(self, data):\n",
    "        if not self.head:\n",
    "            self.head = Node(data)\n",
    "            return\n",
    "        current = self.head\n",
    "        while current.next:\n",
    "            current = current.next\n",
    "        current.next = Node(data)\n",
    "    def delete_at_head(self):\n",
    "        if self.head:\n",
    "            self.head = self.head.next\n",
    "    def delete(self, data):\n",
    "        if self.head is None:\n",
    "            return\n",
    "        if self.head.data == data:\n",
    "            self.head = self.head.next\n",
    "            return\n",
    "        current = self.head\n",
    "        while current.next:\n",
    "            if current.next.data == data:\n",
    "                current.next = current.next.next\n",
    "                return\n",
    "            current = current.next\n",
    "    def delete_at_position(self, position):\n",
    "        if position == 0:\n",
    "            self.delete_at_head()\n",
    "            return\n",
    "        current = self.head\n",
    "        current_position = 0\n",
    "        while current and current_position < position - 1:\n",
    "            current = current.next\n",
    "            current_position += 1\n",
    "        if current and current.next:\n",
    "            current.next = current.next.next\n",
    "    def print_list(self):\n",
    "        current = self.head\n",
    "        while current:\n",
    "            print(current.data, end=\" \")\n",
    "            current = current.next\n",
    "        print()\n",
    "linked_list = LinkedList()\n",
    "linked_list.append(1)\n",
    "linked_list.append(2)\n",
    "linked_list.append(3)\n",
    "linked_list.append(4)\n",
    "linked_list.print_list()  \n",
    "linked_list.delete_at_head()\n",
    "linked_list.print_list()  \n",
    "linked_list.delete(3)\n",
    "linked_list.print_list()\n",
    "linked_list.delete_at_position(0)\n",
    "linked_list.print_list()"
   ]
  },
  {
   "cell_type": "code",
   "execution_count": null,
   "id": "3d5ac6a2-6b08-426f-9168-edae0498a33a",
   "metadata": {},
   "outputs": [],
   "source": []
  }
 ],
 "metadata": {
  "kernelspec": {
   "display_name": "Python 3 (ipykernel)",
   "language": "python",
   "name": "python3"
  },
  "language_info": {
   "codemirror_mode": {
    "name": "ipython",
    "version": 3
   },
   "file_extension": ".py",
   "mimetype": "text/x-python",
   "name": "python",
   "nbconvert_exporter": "python",
   "pygments_lexer": "ipython3",
   "version": "3.12.7"
  }
 },
 "nbformat": 4,
 "nbformat_minor": 5
}
